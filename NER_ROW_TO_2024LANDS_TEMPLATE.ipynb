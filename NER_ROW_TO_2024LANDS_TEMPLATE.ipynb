{
 "cells": [
  {
   "cell_type": "code",
   "execution_count": 1,
   "metadata": {},
   "outputs": [],
   "source": [
    "#THIS NOTEBOOK WILL COPY OVER NER ROW LAYERS\n",
    "# PRE-STEP - DOWNLOAD NER ROW LAYER FROM ONLINE AND ADD DATE OF DOWNLOAD, THEN ADD TO NER ROW Layers gdb"
   ]
  },
  {
   "cell_type": "code",
   "execution_count": 2,
   "metadata": {},
   "outputs": [],
   "source": [
    "#TASK 1 - SET YOUR SOURCE AND TARGET DATA SETS"
   ]
  },
  {
   "cell_type": "code",
   "execution_count": 3,
   "metadata": {},
   "outputs": [],
   "source": [
    "source_feature = r'C:\\Users\\hdean\\Desktop\\GDB_Conversion_2024\\GDB_Conversion6252024\\NER_ROW_Layers.gdb\\NER_ROW_ply_07022024'\n",
    "\n",
    "target_feature = r'C:\\Users\\hdean\\Desktop\\GDB_Conversion_2024\\GDB_Conversion6252024\\NER_ROW_Layers.gdb\\DBO_EGDB_UseLocations_py'\n",
    "\n",
    "target_feature_workspace = r'C:\\Users\\hdean\\Desktop\\GDB_Conversion_2024\\GDB_Conversion6252024\\NER_ROW_Layers.gdb'\n",
    "\n",
    "county_feature = r'C:\\Users\\hdean\\Desktop\\GDB_Conversion_2024\\GDB_Conversion6252024\\NER_ROW_Layers.gdb\\USA_Counties'\n",
    "\n",
    "NER_CNTY_JN = r'C:\\Users\\hdean\\Desktop\\GDB_Conversion_2024\\GDB_Conversion6252024\\NER_ROW_Layers.gdb/NER_CNTY_Join4'\n",
    "\n",
    "source_feature_workspace = r'C:\\Users\\hdean\\Desktop\\GDB_Conversion_2024\\GDB_Conversion6252024\\NER_ROW_Layers.gdb'"
   ]
  },
  {
   "cell_type": "code",
   "execution_count": 4,
   "metadata": {},
   "outputs": [],
   "source": [
    "#TASK 2 - EXAMINE TEMPLATE VS NER ROW LAYER AND ADD AY TEMPLATE FIELDS TO THE NER ROW LAYER"
   ]
  },
  {
   "cell_type": "code",
   "execution_count": 5,
   "metadata": {},
   "outputs": [
    {
     "name": "stdout",
     "output_type": "stream",
     "text": [
      "Field OBJECTID already exists in the source feature class.\n",
      "Field Shape already exists in the source feature class.\n",
      "Field FEATUREID already exists in the source feature class.\n",
      "Field USE_BNDY_NO already exists in the source feature class.\n",
      "Field REC_STATE already exists in the source feature class.\n",
      "Field REC_CNTY already exists in the source feature class.\n",
      "Field BK_VOL already exists in the source feature class.\n",
      "Field PAGE already exists in the source feature class.\n",
      "Field RECEPT_NO already exists in the source feature class.\n",
      "Field REC_DATE already exists in the source feature class.\n",
      "Field INS_DATE already exists in the source feature class.\n",
      "Field SOURCEDATE already exists in the source feature class.\n",
      "Field SURV_DATE already exists in the source feature class.\n",
      "Field PLAT_TITLE already exists in the source feature class.\n",
      "Field GRANTOR already exists in the source feature class.\n",
      "Field GRANTEE already exists in the source feature class.\n",
      "Field LEGAL_ACRE already exists in the source feature class.\n",
      "Field GIS_ACRE already exists in the source feature class.\n",
      "Field USE_DIMENSIONS already exists in the source feature class.\n",
      "Field TRACT_ID already exists in the source feature class.\n",
      "Field MAPMETHOD already exists in the source feature class.\n",
      "Field MAPSOURCE already exists in the source feature class.\n",
      "Field ESTACCURACY already exists in the source feature class.\n",
      "Error adding field NOTES: Failed to execute. Parameters are not valid.\n",
      "ERROR 000012: NOTES already exists\n",
      "Failed to execute (AddField).\n",
      "\n",
      "Field NOTES1 already exists in the source feature class.\n",
      "Field UNITCODE already exists in the source feature class.\n",
      "Field DATAACCESS already exists in the source feature class.\n",
      "Field PUBLICDISPLAY already exists in the source feature class.\n",
      "Field ISEXTANT already exists in the source feature class.\n",
      "Field LAYER already exists in the source feature class.\n",
      "Field SOURCEFILE already exists in the source feature class.\n",
      "Field MAPLABEL already exists in the source feature class.\n",
      "Field created_user already exists in the source feature class.\n",
      "Field created_date already exists in the source feature class.\n",
      "Field last_edited_user already exists in the source feature class.\n",
      "Field last_edited_date already exists in the source feature class.\n",
      "Error adding field GlobalID: ERROR 002705: Cannot add field GlobalID as Non-Nullable to a NON-EMPTY Geodatabase table.\n",
      "Failed to execute (AddField).\n",
      "\n",
      "Field Shape_Length already exists in the source feature class.\n",
      "Field Shape_Area already exists in the source feature class.\n",
      "Field comparison and addition completed.\n"
     ]
    }
   ],
   "source": [
    "import arcpy\n",
    "\n",
    "# List fields in the source and target feature classes\n",
    "source_fields = arcpy.ListFields(source_feature)\n",
    "target_fields = arcpy.ListFields(target_feature)\n",
    "\n",
    "# Create a set of field names in the source feature class\n",
    "source_field_names = set(field.name for field in source_fields)\n",
    "\n",
    "# Loop through the target fields and add any missing fields to the source feature class\n",
    "for field in target_fields:\n",
    "    if field.name not in source_field_names:\n",
    "        try:\n",
    "            # Add the field to the source feature class\n",
    "            arcpy.AddField_management(\n",
    "                in_table=source_feature,\n",
    "                field_name=field.name,\n",
    "                field_type=field.type,\n",
    "                field_precision=field.precision,\n",
    "                field_scale=field.scale,\n",
    "                field_length=field.length,\n",
    "                field_alias=field.aliasName,\n",
    "                field_is_nullable=field.isNullable,\n",
    "                field_is_required=field.required,\n",
    "                field_domain=field.domain\n",
    "            )\n",
    "            print(f\"Field {field.name} added to the source feature class.\")\n",
    "        except arcpy.ExecuteError as e:\n",
    "            print(f\"Error adding field {field.name}: {e}\")\n",
    "    else:\n",
    "        print(f\"Field {field.name} already exists in the source feature class.\")\n",
    "\n",
    "print(\"Field comparison and addition completed.\")\n"
   ]
  },
  {
   "cell_type": "code",
   "execution_count": 6,
   "metadata": {},
   "outputs": [],
   "source": [
    "#TASK 3 - JOIN YOUR LAYER TO THE COUNTY DATA IN ORDER TO CALCULATE YOUR CNTY AND STATE VALUES"
   ]
  },
  {
   "cell_type": "code",
   "execution_count": 7,
   "metadata": {},
   "outputs": [
    {
     "name": "stdout",
     "output_type": "stream",
     "text": [
      "Spatial join and field calculation completed successfully.\n"
     ]
    }
   ],
   "source": [
    "import arcpy\n",
    "\n",
    "# Define the paths to the feature classes\n",
    "output_feature = NER_CNTY_JN\n",
    "\n",
    "# Perform the spatial join\n",
    "arcpy.analysis.SpatialJoin(\n",
    "    target_features=source_feature, \n",
    "    join_features=county_feature, \n",
    "    out_feature_class=output_feature,\n",
    "    join_type=\"KEEP_COMMON\"\n",
    ")\n",
    "\n",
    "# Calculate fields REC_CNTY and REC_STATE\n",
    "arcpy.management.CalculateField(output_feature, \"REC_CNTY\", \"!NAME!\", \"PYTHON3\")\n",
    "arcpy.management.CalculateField(output_feature, \"REC_STATE\", \"!STATE_ABBR!\", \"PYTHON3\")\n",
    "\n",
    "print(\"Spatial join and field calculation completed successfully.\")\n"
   ]
  },
  {
   "cell_type": "code",
   "execution_count": 8,
   "metadata": {},
   "outputs": [],
   "source": [
    "#TASK 4 - EXAMINE TEMPLATE DOMAINS AND THE FIELDS THEY APPLY TO "
   ]
  },
  {
   "cell_type": "code",
   "execution_count": 9,
   "metadata": {},
   "outputs": [
    {
     "name": "stdout",
     "output_type": "stream",
     "text": [
      "Domain listing completed.\n"
     ]
    }
   ],
   "source": [
    "import arcpy\n",
    "\n",
    "# Get the workspace (geodatabase) from the target feature\n",
    "workspace = target_feature_workspace\n",
    "\n",
    "# Set the workspace\n",
    "arcpy.env.workspace = workspace\n",
    "\n",
    "# List all fields in the target feature\n",
    "fields = arcpy.ListFields(target_feature)\n",
    "\n",
    "# Get all domains in the workspace\n",
    "domains = arcpy.da.ListDomains(workspace)\n",
    "\n",
    "# Create a dictionary to map domain names to their fields\n",
    "domain_field_map = {}\n",
    "\n",
    "# Iterate through fields and populate the domain-field map\n",
    "for field in fields:\n",
    "    if field.domain:\n",
    "        if field.domain not in domain_field_map:\n",
    "            domain_field_map[field.domain] = []\n",
    "        domain_field_map[field.domain].append(field.name)\n",
    "\n",
    "# Function to print domain values\n",
    "def print_domain_values(domain):\n",
    "    if domain:\n",
    "        print(f\"Domain Name: {domain.name}\")\n",
    "        if domain.domainType == 'CodedValue':\n",
    "            coded_values = domain.codedValues\n",
    "            for code, description in coded_values.items():\n",
    "                print(f\" - Code: {code}\")\n",
    "        elif domain.domainType == 'Range':\n",
    "            print(f\" - Range: {domain.range[0]} - {domain.range[1]}\")\n",
    "    else:\n",
    "        print(\"No domain assigned.\")\n",
    "\n",
    "# Iterate through domains and print their associated fields and values\n",
    "for domain_name, field_names in domain_field_map.items():\n",
    "    domain_obj = next((d for d in domains if d.name == domain_name), None)\n",
    "    print(f\"Domain: {domain_name}\")\n",
    "    print(\"Used in fields: \" + \", \".join(field_names))\n",
    "    print_domain_values(domain_obj)\n",
    "    print()\n",
    "\n",
    "print(\"Domain listing completed.\")\n"
   ]
  },
  {
   "cell_type": "code",
   "execution_count": 10,
   "metadata": {},
   "outputs": [],
   "source": [
    "#TASK 5 - POPULATE MAPMETHOD BASED ON A SET OF RULES"
   ]
  },
  {
   "cell_type": "code",
   "execution_count": 11,
   "metadata": {},
   "outputs": [],
   "source": [
    "#TASK 5A - Examine common words used in your DATA_SOURCE field to determine appropriate categories to use when calculating MAPMETHOD"
   ]
  },
  {
   "cell_type": "code",
   "execution_count": 12,
   "metadata": {},
   "outputs": [
    {
     "name": "stdout",
     "output_type": "stream",
     "text": [
      "Most common words in the DATA_SOURCE field:\n",
      "and: 196\n",
      "data: 178\n",
      "park: 96\n",
      "description: 79\n",
      "on: 77\n",
      "centerlines: 72\n",
      "map: 69\n",
      "legal: 68\n",
      "aerial: 66\n",
      "paper: 65\n",
      "roads: 63\n",
      "gis: 60\n",
      "state: 56\n",
      "based: 55\n",
      "of: 55\n",
      "mainedot: 54\n",
      "public: 54\n",
      "to: 39\n",
      "with: 38\n",
      "plat: 37\n",
      "\n",
      "The word 'survey' was found 13 times in the DATA_SOURCE field.\n",
      "Summary of word frequencies completed.\n"
     ]
    }
   ],
   "source": [
    "import arcpy\n",
    "from collections import Counter\n",
    "import re\n",
    "\n",
    "# Define the path to the NER_CNTY_JN feature class\n",
    "ner_cnty_jn = NER_CNTY_JN\n",
    "\n",
    "# Initialize a Counter to count word frequencies\n",
    "word_counter = Counter()\n",
    "\n",
    "# Define a regular expression pattern to match words\n",
    "word_pattern = re.compile(r'\\b\\w+\\b')\n",
    "\n",
    "# Initialize a counter for the word \"survey\"\n",
    "survey_count = 0\n",
    "\n",
    "# Create a search cursor to read the DATA_SOURCE field\n",
    "with arcpy.da.SearchCursor(ner_cnty_jn, [\"DATA_SOURCE\"]) as cursor:\n",
    "    for row in cursor:\n",
    "        data_source = row[0]\n",
    "        if data_source:\n",
    "            # Find all words in the DATA_SOURCE field and update the counter\n",
    "            words = word_pattern.findall(data_source.lower())\n",
    "            word_counter.update(words)\n",
    "            \n",
    "            # Check for the word \"survey\"\n",
    "            if \"survey\" in words:\n",
    "                survey_count += 1\n",
    "\n",
    "# Get the most common words and their counts\n",
    "most_common_words = word_counter.most_common(20)  # Change 10 to the desired number of top words\n",
    "\n",
    "# Print the most common words\n",
    "print(\"Most common words in the DATA_SOURCE field:\")\n",
    "for word, count in most_common_words:\n",
    "    print(f\"{word}: {count}\")\n",
    "\n",
    "# Print the count of the word \"survey\"\n",
    "print(f\"\\nThe word 'survey' was found {survey_count} times in the DATA_SOURCE field.\")\n",
    "\n",
    "print(\"Summary of word frequencies completed.\")\n"
   ]
  },
  {
   "cell_type": "code",
   "execution_count": 13,
   "metadata": {},
   "outputs": [],
   "source": [
    "#TASK 5B - CALCULATE MAPMETHOD BASED ON TEXT IN OLD DATA_SOURCE FIEDL"
   ]
  },
  {
   "cell_type": "code",
   "execution_count": 14,
   "metadata": {},
   "outputs": [
    {
     "name": "stdout",
     "output_type": "stream",
     "text": [
      "Field calculation for MAPMETHOD completed.\n",
      "\n",
      "Summary of MAPMETHOD field values:\n",
      "Surveyed/GPS/Geodetically Derived: 71\n",
      "Unknown: 13\n",
      "Digitized: 96\n",
      "COGO: 36\n",
      "Other: 226\n",
      "Summary of MAPMETHOD values completed.\n"
     ]
    }
   ],
   "source": [
    "import arcpy\n",
    "from collections import Counter\n",
    "\n",
    "# Define the path to the source feature class\n",
    "source_feature = NER_CNTY_JN\n",
    "\n",
    "# Add the MAPMETHOD field if it doesn't exist\n",
    "if not arcpy.ListFields(source_feature, \"MAPMETHOD\"):\n",
    "    arcpy.management.AddField(source_feature, \"MAPMETHOD\", \"TEXT\")\n",
    "\n",
    "# Define an update cursor to update the MAPMETHOD field based on DATA_SOURCE\n",
    "with arcpy.da.UpdateCursor(source_feature, [\"DATA_SOURCE\", \"MAPMETHOD\"]) as cursor:\n",
    "    for row in cursor:\n",
    "        data_source = row[0]\n",
    "        if data_source is not None:\n",
    "            data_source_lower = data_source.lower()\n",
    "            if \"survey\" in data_source_lower or \"plat\" in data_source_lower:\n",
    "                row[1] = \"Surveyed/GPS/Geodetically Derived\"\n",
    "            elif \"digitiz\" in data_source_lower or \"aerial\" in data_source_lower or \"paper\" in data_source_lower:\n",
    "                row[1] = \"Digitized\"\n",
    "            elif \"cogo\" in data_source_lower or \"legal\" in data_source_lower:\n",
    "                row[1] = \"COGO\"\n",
    "            else:\n",
    "                row[1] = \"Other\"\n",
    "        else:\n",
    "            row[1] = \"Unknown\"\n",
    "        cursor.updateRow(row)\n",
    "\n",
    "print(\"Field calculation for MAPMETHOD completed.\")\n",
    "\n",
    "# Count the occurrences of each value in the MAPMETHOD field\n",
    "mapmethod_counter = Counter()\n",
    "\n",
    "# Use a search cursor to count the MAPMETHOD values\n",
    "with arcpy.da.SearchCursor(source_feature, [\"MAPMETHOD\"]) as cursor:\n",
    "    for row in cursor:\n",
    "        mapmethod_counter[row[0]] += 1\n",
    "\n",
    "# Print the summary of MAPMETHOD values\n",
    "print(\"\\nSummary of MAPMETHOD field values:\")\n",
    "for method, count in mapmethod_counter.items():\n",
    "    print(f\"{method}: {count}\")\n",
    "\n",
    "print(\"Summary of MAPMETHOD values completed.\")\n",
    "\n"
   ]
  },
  {
   "cell_type": "code",
   "execution_count": 15,
   "metadata": {},
   "outputs": [],
   "source": [
    "#TASK 6 - HANDLE MAPSOURCE FIELD USING DATA_SOURCE TEXT "
   ]
  },
  {
   "cell_type": "code",
   "execution_count": 16,
   "metadata": {},
   "outputs": [
    {
     "name": "stdout",
     "output_type": "stream",
     "text": [
      "Field calculation for MAPSOURCE completed.\n",
      "\n",
      "Summary of MAPSOURCE field values:\n",
      "Document - Survey Plat, Unrecorded: 111\n",
      "Not Identified: 13\n",
      "Digital - Georeferenced Map or Plat: 35\n",
      "Digital - CAD File: 162\n",
      "Document - Other: 52\n",
      "Digital - Aerial Photo: 48\n",
      "Digital - Other: 21\n",
      "Summary of MAPSOURCE values completed.\n"
     ]
    }
   ],
   "source": [
    "import arcpy\n",
    "from collections import Counter\n",
    "\n",
    "# Define the path to the source feature class\n",
    "source_feature = NER_CNTY_JN\n",
    "\n",
    "# Add the MAPSOURCE field if it doesn't exist\n",
    "if not arcpy.ListFields(source_feature, \"MAPSOURCE\"):\n",
    "    arcpy.management.AddField(source_feature, \"MAPSOURCE\", \"TEXT\")\n",
    "\n",
    "# Define an update cursor to update the MAPSOURCE field based on DATA_SOURCE\n",
    "with arcpy.da.UpdateCursor(source_feature, [\"DATA_SOURCE\", \"MAPSOURCE\"]) as cursor:\n",
    "    for row in cursor:\n",
    "        data_source = row[0]\n",
    "        if data_source is not None:\n",
    "            data_source_lower = data_source.lower()\n",
    "            if \"plat\" in data_source_lower or \"legal\" in data_source_lower:\n",
    "                row[1] = \"Document - Survey Plat, Unrecorded\"\n",
    "            elif \"paper\" in data_source_lower:\n",
    "                row[1] = \"Digital - Georeferenced Map or Plat\"\n",
    "            elif \"aerial\" in data_source_lower:\n",
    "                row[1] = \"Digital - Aerial Photo\"\n",
    "            elif \"data\" in data_source_lower or \"cad\" in data_source_lower:\n",
    "                row[1] = \"Digital - CAD File\"\n",
    "            elif \"gis\" in data_source_lower:\n",
    "                row[1] = \"Digital - Other\"\n",
    "            else:\n",
    "                row[1] = \"Document - Other\"\n",
    "        else:\n",
    "            row[1] = \"Not Identified\"\n",
    "        cursor.updateRow(row)\n",
    "\n",
    "print(\"Field calculation for MAPSOURCE completed.\")\n",
    "\n",
    "# Count the occurrences of each value in the MAPMETHOD field\n",
    "mapmethod_counter = Counter()\n",
    "\n",
    "# Use a search cursor to count the MAPSOURCE values\n",
    "with arcpy.da.SearchCursor(source_feature, [\"MAPSOURCE\"]) as cursor:\n",
    "    for row in cursor:\n",
    "        mapmethod_counter[row[0]] += 1\n",
    "\n",
    "# Print the summary of MAPSOURCE values\n",
    "print(\"\\nSummary of MAPSOURCE field values:\")\n",
    "for method, count in mapmethod_counter.items():\n",
    "    print(f\"{method}: {count}\")\n",
    "\n",
    "print(\"Summary of MAPSOURCE values completed.\")\n",
    "\n"
   ]
  },
  {
   "cell_type": "code",
   "execution_count": 17,
   "metadata": {},
   "outputs": [],
   "source": [
    "#TASK 7 - HANDLE ESTACCURACY USING VALUES IN DataQuality field"
   ]
  },
  {
   "cell_type": "code",
   "execution_count": 18,
   "metadata": {},
   "outputs": [
    {
     "name": "stdout",
     "output_type": "stream",
     "text": [
      "Field calculation for ESTACCURACY completed.\n",
      "\n",
      "Summary of ESTACCURACY field values:\n",
      "Low >10m: 310\n",
      "High +/-<3m: 45\n",
      "Medium +/-3m-10m: 87\n",
      "Summary of ESTACCURACY values completed.\n"
     ]
    }
   ],
   "source": [
    "import arcpy\n",
    "from collections import Counter\n",
    "\n",
    "# Define the path to the source feature class\n",
    "source_feature = NER_CNTY_JN\n",
    "\n",
    "# Add the ESTACCURACY field if it doesn't exist\n",
    "if not arcpy.ListFields(source_feature, \"ESTACCURACY\"):\n",
    "    arcpy.management.AddField(source_feature, \"ESTACCURACY\", \"TEXT\")\n",
    "\n",
    "# Define an update cursor to update the ESTACCURACY field based on DataQuality\n",
    "with arcpy.da.UpdateCursor(source_feature, [\"DataQuality\", \"ESTACCURACY\"]) as cursor:\n",
    "    for row in cursor:\n",
    "        data_quality = row[0]\n",
    "        if data_quality is not None:\n",
    "            if data_quality.lower() == \"low\":\n",
    "                row[1] = \"Low >10m\"\n",
    "            elif data_quality.lower() == \"medium\":\n",
    "                row[1] = \"Medium +/-3m-10m\"\n",
    "            elif data_quality.lower() == \"high\":\n",
    "                row[1] = \"High +/-<3m\"\n",
    "        else:\n",
    "            row[1] = \"Low >10m\"  # Set null values to \"Low >10m\"\n",
    "        cursor.updateRow(row)\n",
    "\n",
    "print(\"Field calculation for ESTACCURACY completed.\")\n",
    "\n",
    "# Count the occurrences of each value in the ESTACCURACY field\n",
    "mapmethod_counter = Counter()\n",
    "\n",
    "# Use a search cursor to count the ESTACCURACY values\n",
    "with arcpy.da.SearchCursor(source_feature, [\"ESTACCURACY\"]) as cursor:\n",
    "    for row in cursor:\n",
    "        mapmethod_counter[row[0]] += 1\n",
    "\n",
    "# Print the summary of ESTACCURACY values\n",
    "print(\"\\nSummary of ESTACCURACY field values:\")\n",
    "for method, count in mapmethod_counter.items():\n",
    "    print(f\"{method}: {count}\")\n",
    "\n",
    "print(\"Summary of ESTACCURACY values completed.\")"
   ]
  },
  {
   "cell_type": "code",
   "execution_count": 19,
   "metadata": {},
   "outputs": [],
   "source": [
    "#TASK 8 - HANDLE DATAACCESS AND PUBLICDISPLAY BY SETTING VALUES - THESE ARE THE SAME ACROSS ALL"
   ]
  },
  {
   "cell_type": "code",
   "execution_count": 20,
   "metadata": {},
   "outputs": [
    {
     "name": "stdout",
     "output_type": "stream",
     "text": [
      "Field updates completed for DATAACCESS and PUBLICDISPLAY.\n"
     ]
    }
   ],
   "source": [
    "import arcpy\n",
    "from collections import Counter\n",
    "\n",
    "# Define the path to the source feature class\n",
    "source_feature = NER_CNTY_JN\n",
    "\n",
    "# Define an update cursor to update the fields based on null values\n",
    "with arcpy.da.UpdateCursor(source_feature, [\"DATAACCESS\", \"PUBLICDISPLAY\"]) as cursor:\n",
    "    for row in cursor:\n",
    "        if row[0] is None:\n",
    "            row[0] = \"Internal NPS Only\"  # Set DATAACCESS to \"Internal NPS Only\" if null\n",
    "        if row[1] is None:\n",
    "            row[1] = \"No Public Map Display\"  # Set PUBLICDISPLAY to \"No Public Map Display\" if null\n",
    "        cursor.updateRow(row)\n",
    "\n",
    "print(\"Field updates completed for DATAACCESS and PUBLICDISPLAY.\")\n"
   ]
  },
  {
   "cell_type": "code",
   "execution_count": 21,
   "metadata": {},
   "outputs": [],
   "source": [
    "#TASK 9 - HANDLE A SET OF FIELDS WITH A ONE TO ONE RELATIONSHIP\n",
    "    # PATTERN IS AS FOLLOWS\n",
    "        #NEW FIELD: OLD FIELD\n",
    "    #ADD ANY ADDITIONAL ONE TO ONES AS NEEDED INTO THE LIST"
   ]
  },
  {
   "cell_type": "code",
   "execution_count": 32,
   "metadata": {},
   "outputs": [
    {
     "name": "stdout",
     "output_type": "stream",
     "text": [
      "Calculation of fields for C:\\Users\\hdean\\Desktop\\GDB_Conversion_2024\\GDB_Conversion6252024\\NER_ROW_Layers.gdb\\NER_CNTY_Join4 completed successfully.\n"
     ]
    }
   ],
   "source": [
    "import arcpy\n",
    "\n",
    "# Define the path to the source feature class\n",
    "source_feature1 = r'C:\\Users\\hdean\\Desktop\\GDB_Conversion_2024\\GDB_Conversion6252024\\NER_ROW_Layers.gdb\\NER_CNTY_Join4'\n",
    "arcpy.env.workspace = source_feature_workspace\n",
    "\n",
    "def calculate_fields(feature_class):\n",
    "    try:\n",
    "        # List of fields to calculate\n",
    "        fields_to_calculate = [\n",
    "            (\"FEATUREID\", \"!Location_Key!\"),\n",
    "            (\"TRACT_ID\", \"str(!Tract!)[0:20]\"),  # Adjusted to use string slicing for text field\n",
    "            (\"USE_BNDY_NO\", \"str(!ROW_ID!)[0:20]\"),  # Adjusted to use string slicing for text field\n",
    "            (\"UNITCODE\", \"!PARK_ALPHA!\"),\n",
    "            (\"GRANTEE\", \"!PERMITTEE!\")\n",
    "        ]\n",
    "\n",
    "        # Get the list of field names in the feature class\n",
    "        existing_fields = [field.name for field in arcpy.ListFields(feature_class)]\n",
    "\n",
    "        # Start an edit session and apply field calculations\n",
    "        with arcpy.da.Editor(arcpy.env.workspace) as edit:\n",
    "            for output_field, expression in fields_to_calculate:\n",
    "                if output_field in existing_fields:\n",
    "                    arcpy.CalculateField_management(\n",
    "                        in_table=feature_class,\n",
    "                        field=output_field,\n",
    "                        expression=expression,\n",
    "                        expression_type='PYTHON3'\n",
    "                    )\n",
    "                else:\n",
    "                    print(f\"Field {output_field} not found in {feature_class}. Skipping calculation.\")\n",
    "\n",
    "        print(f\"Calculation of fields for {feature_class} completed successfully.\")\n",
    "\n",
    "    except arcpy.ExecuteError:\n",
    "        print(f\"Error executing arcpy operation: {arcpy.GetMessages(2)}\")\n",
    "    except Exception as e:\n",
    "        print(f\"Unexpected error occurred: {e}\")\n",
    "\n",
    "# Call the function with your feature class\n",
    "if __name__ == \"__main__\":\n",
    "    calculate_fields(source_feature1)\n"
   ]
  },
  {
   "cell_type": "code",
   "execution_count": 23,
   "metadata": {},
   "outputs": [],
   "source": [
    "#TASK 10 - CONCATENATE EXTRANEOUS TEXT AND NOTES FIELDS INTO NOTES1 FIELD"
   ]
  },
  {
   "cell_type": "code",
   "execution_count": 24,
   "metadata": {},
   "outputs": [
    {
     "name": "stdout",
     "output_type": "stream",
     "text": [
      "Replaced NULL values with 'null' in field: ExtraMapNotes\n",
      "Replaced NULL values with 'null' in field: ROW_short_description\n",
      "Replaced NULL values with 'null' in field: Notes\n"
     ]
    }
   ],
   "source": [
    "#pre task - in order to handle null values in concatenate expression, set the fields equal to \"null\"\n",
    "# Pre-cell to handle NULL values in specified fields\n",
    "\n",
    "import arcpy\n",
    "\n",
    "# List of fields to check and replace NULL values\n",
    "fields_to_check = [\n",
    "    \"ExtraMapNotes\",\n",
    "    \"ROW_short_description\",\n",
    "    \"Notes\"\n",
    "]\n",
    "\n",
    "# Iterate over each field and replace None with \"null\"\n",
    "for field in fields_to_check:\n",
    "    try:\n",
    "        # Update cursor to find and replace NULL values\n",
    "        with arcpy.da.UpdateCursor(source_feature, [field]) as cursor:\n",
    "            for row in cursor:\n",
    "                if row[0] is None:\n",
    "                    row[0] = \"null\"\n",
    "                    cursor.updateRow(row)\n",
    "        \n",
    "        print(f\"Replaced NULL values with 'null' in field: {field}\")\n",
    "\n",
    "    except arcpy.ExecuteError:\n",
    "        print(f\"Error executing arcpy operation for field {field}: {arcpy.GetMessages(2)}\")\n",
    "    except Exception as e:\n",
    "        print(f\"Unexpected error occurred for field {field}: {e}\")\n"
   ]
  },
  {
   "cell_type": "code",
   "execution_count": 25,
   "metadata": {},
   "outputs": [
    {
     "name": "stdout",
     "output_type": "stream",
     "text": [
      "Concatenation for NOTES1 field in C:\\Users\\hdean\\Desktop\\GDB_Conversion_2024\\GDB_Conversion6252024\\NER_ROW_Layers.gdb/NER_CNTY_Join4 completed successfully.\n"
     ]
    }
   ],
   "source": [
    "import arcpy\n",
    "\n",
    "# Define the path to the source feature class\n",
    "source_feature = NER_CNTY_JN\n",
    "arcpy.env.workspace = source_feature_workspace\n",
    "\n",
    "def calculate_notes1_concatenation(feature_class):\n",
    "    try:\n",
    "        # Calculate NOTES1 field using concatenation of specified fields\n",
    "        arcpy.CalculateField_management(\n",
    "            in_table=feature_class,\n",
    "            field=\"NOTES1\",\n",
    "            expression='(!ExtraMapNotes! + \", \" if !ExtraMapNotes! else \"\") + (!ROW_short_description! + \", \" if !ROW_short_description! else \"\") + (!Notes! if !Notes! else \"\")[:254]',\n",
    "            expression_type='PYTHON3'\n",
    "        )\n",
    "\n",
    "        print(f\"Concatenation for NOTES1 field in {feature_class} completed successfully.\")\n",
    "\n",
    "    except arcpy.ExecuteError:\n",
    "        print(f\"Error executing arcpy operation: {arcpy.GetMessages(2)}\")\n",
    "    except Exception as e:\n",
    "        print(f\"Unexpected error occurred: {e}\")\n",
    "\n",
    "# Call the function with your feature class\n",
    "if __name__ == \"__main__\":\n",
    "    calculate_notes1_concatenation(source_feature)\n"
   ]
  },
  {
   "cell_type": "code",
   "execution_count": 26,
   "metadata": {},
   "outputs": [],
   "source": [
    "#TASK 11 - Using a blank template gdb pathway, list out any extraneous fields added to your source_feature"
   ]
  },
  {
   "cell_type": "code",
   "execution_count": 27,
   "metadata": {},
   "outputs": [
    {
     "name": "stdout",
     "output_type": "stream",
     "text": [
      "Fields in C:\\Users\\hdean\\Desktop\\GDB_Conversion_2024\\GDB_Conversion6252024\\NER_ROW_Layers.gdb/NER_CNTY_Join4 not present in C:\\Users\\hdean\\Desktop\\GDB_Conversion_2024\\GDB_Conversion6252024\\NER_ROW_Layers.gdb\\DBO_EGDB_UseLocations_py:\n",
      "STATE_ABBR\n",
      "AppEmail\n",
      "NAME\n",
      "ProjectName\n",
      "Fee\n",
      "AppCity\n",
      "Parcel\n",
      "AppZip\n",
      "MilePost\n",
      "Date_Complete_Application\n",
      "App_Phone\n",
      "FIPS\n",
      "DATA_SOURCE\n",
      "Expiration_Date\n",
      "Join_Count\n",
      "Access\n",
      "TARGET_FID\n",
      "Active\n",
      "Shape_Length_1\n",
      "POP20_SQMI\n",
      "Effective_Date\n",
      "DataQuality\n",
      "ROW_Authority\n",
      "Location_Key\n",
      "ParkAuthority\n",
      "LocationState\n",
      "Area_sqft\n",
      "DescriptionofProperty\n",
      "COUNTY_FIPS\n",
      "ROW_ParkContact\n",
      "PARK_ALPHA\n",
      "PERMITTEE\n",
      "NCR_AdminFilePathway\n",
      "ParkUnit_full\n",
      "ROW_Width\n",
      "Instrument\n",
      "Ownership\n",
      "LonTextDescription\n",
      "POPULATION\n",
      "Rights\n",
      "POPULATION_2020\n",
      "ROW_adverb\n",
      "Acres\n",
      "ParkContacEmail\n",
      "Encumbrance_Subtype\n",
      "CostRecovery\n",
      "PEPC\n",
      "ROW_short_description\n",
      "ExtraMapNotes\n",
      "App_Address\n",
      "STATE_NAME\n",
      "LongDescription\n",
      "SQMI\n",
      "POP_SQMI\n",
      "Tract\n",
      "Shape_Area_1\n",
      "AppState\n",
      "STATE_FIPS\n",
      "ROW_ID\n",
      "Applicant\n",
      "Notes\n",
      "List of fields not present in target_feature:\n",
      "['STATE_ABBR', 'AppEmail', 'NAME', 'ProjectName', 'Fee', 'AppCity', 'Parcel', 'AppZip', 'MilePost', 'Date_Complete_Application', 'App_Phone', 'FIPS', 'DATA_SOURCE', 'Expiration_Date', 'Join_Count', 'Access', 'TARGET_FID', 'Active', 'Shape_Length_1', 'POP20_SQMI', 'Effective_Date', 'DataQuality', 'ROW_Authority', 'Location_Key', 'ParkAuthority', 'LocationState', 'Area_sqft', 'DescriptionofProperty', 'COUNTY_FIPS', 'ROW_ParkContact', 'PARK_ALPHA', 'PERMITTEE', 'NCR_AdminFilePathway', 'ParkUnit_full', 'ROW_Width', 'Instrument', 'Ownership', 'LonTextDescription', 'POPULATION', 'Rights', 'POPULATION_2020', 'ROW_adverb', 'Acres', 'ParkContacEmail', 'Encumbrance_Subtype', 'CostRecovery', 'PEPC', 'ROW_short_description', 'ExtraMapNotes', 'App_Address', 'STATE_NAME', 'LongDescription', 'SQMI', 'POP_SQMI', 'Tract', 'Shape_Area_1', 'AppState', 'STATE_FIPS', 'ROW_ID', 'Applicant', 'Notes']\n"
     ]
    }
   ],
   "source": [
    "import arcpy\n",
    "\n",
    "def compare_fields(source_fc, target_fc):\n",
    "    try:\n",
    "        # Get the list of fields in the source feature class\n",
    "        source_fields = [field.name for field in arcpy.ListFields(source_fc)]\n",
    "\n",
    "        # Get the list of fields in the target feature class\n",
    "        target_fields = [field.name for field in arcpy.ListFields(target_fc)]\n",
    "\n",
    "        # Find fields in source_fc that are not in target_fc\n",
    "        fields_not_in_target = set(source_fields) - set(target_fields)\n",
    "\n",
    "        # Convert set to list for printing\n",
    "        fields_not_in_target_list = list(fields_not_in_target)\n",
    "\n",
    "        if fields_not_in_target_list:\n",
    "            print(f\"Fields in {source_fc} not present in {target_fc}:\")\n",
    "            for field in fields_not_in_target_list:\n",
    "                print(field)\n",
    "        else:\n",
    "            print(f\"All fields in {source_fc} are also present in {target_fc}.\")\n",
    "\n",
    "        return fields_not_in_target_list\n",
    "\n",
    "    except arcpy.ExecuteError:\n",
    "        print(f\"Error executing arcpy operation: {arcpy.GetMessages(2)}\")\n",
    "        return None\n",
    "    except Exception as e:\n",
    "        print(f\"Unexpected error occurred: {e}\")\n",
    "        return None\n",
    "\n",
    "# Call the function with your source and target feature classes\n",
    "if __name__ == \"__main__\":\n",
    "    fields_not_in_target = compare_fields(source_feature, target_feature)\n",
    "    if fields_not_in_target is not None:\n",
    "        # Now fields_not_in_target contains the list of fields not in target_feature\n",
    "        print(\"List of fields not present in target_feature:\")\n",
    "        print(fields_not_in_target)\n"
   ]
  },
  {
   "cell_type": "code",
   "execution_count": 28,
   "metadata": {},
   "outputs": [],
   "source": [
    "#TASK 12 - create a final copy for the upload to the online versioning system; and then remove extraneous fields"
   ]
  },
  {
   "cell_type": "code",
   "execution_count": 33,
   "metadata": {},
   "outputs": [
    {
     "name": "stdout",
     "output_type": "stream",
     "text": [
      "Copy of C:\\Users\\hdean\\Desktop\\GDB_Conversion_2024\\GDB_Conversion6252024\\NER_ROW_Layers.gdb/NER_CNTY_Join4 created as 'NER_ROW_forpaste07032024' in C:\\Users\\hdean\\Desktop\\GDB_Conversion_2024\\GDB_Conversion6252024\\NER_ROW_Layers.gdb.\n",
      "Removed specified fields from C:\\Users\\hdean\\Desktop\\GDB_Conversion_2024\\GDB_Conversion6252024\\NER_ROW_Layers.gdb\\NER_ROW_forpaste07032024.\n"
     ]
    }
   ],
   "source": [
    "import arcpy\n",
    "\n",
    "try:\n",
    "    # Create a copy of source_feature in source_feature_workspace\n",
    "    copy_fc_path = arcpy.FeatureClassToFeatureClass_conversion(NER_CNTY_JN, source_feature_workspace, \"NER_ROW_forpaste07032024\").getOutput(0)\n",
    "    print(f\"Copy of {NER_CNTY_JN} created as 'NER_ROW_forpaste07032024' in {source_feature_workspace}.\")\n",
    "\n",
    "    # Remove fields_not_in_target from the copied feature class\n",
    "    arcpy.DeleteField_management(copy_fc_path, fields_not_in_target)\n",
    "    print(f\"Removed specified fields from {copy_fc_path}.\")\n",
    "\n",
    "except arcpy.ExecuteError:\n",
    "    print(f\"Error executing arcpy operation: {arcpy.GetMessages(2)}\")\n",
    "except Exception as e:\n",
    "    print(f\"Unexpected error occurred: {e}\")\n"
   ]
  },
  {
   "cell_type": "code",
   "execution_count": null,
   "metadata": {},
   "outputs": [],
   "source": []
  }
 ],
 "metadata": {
  "kernelspec": {
   "display_name": "ArcGISPro",
   "language": "Python",
   "name": "python3"
  },
  "language_info": {
   "file_extension": ".py",
   "name": "python",
   "version": "3"
  }
 },
 "nbformat": 4,
 "nbformat_minor": 2
}
